{
 "cells": [
  {
   "cell_type": "markdown",
   "metadata": {},
   "source": [
    "# Automatic classification of eclipsing binary stars using deep learning methods"
   ]
  },
  {
   "cell_type": "markdown",
   "metadata": {},
   "source": [
    "> Vstupne datasety (overcontact_0_random_50000.pkl, overcontact_1_random_50000.pkl) boli vytvorene pomocou binaries_detached_random.ipynb a binaries_overcontact_random.ipynb"
   ]
  },
  {
   "cell_type": "markdown",
   "metadata": {},
   "source": [
    "\n",
    "\n",
    "Experiment 3:\n",
    "\n",
    "- datasety: detached_random(50 000)\n",
    "              overcontact_random(50 000) \n",
    "- vstup do modelu: krivky (BRUVI) spojene do jedneho datasetu\n",
    "- šum: stochastic_noise_generator\n",
    "- train_test_split: test_size=0.2\n",
    "- výstup modelu: klasifikacia 0 -> detached, \n",
    "                            1 -> overcontact\n",
    "- evaluácia: krivky (BRUVI) spojene do jedneho datasetu, nad 0.5 -> 1\n",
    "- checkpoint: monitor: val_acc, mode: max\n",
    "\n",
    "\n"
   ]
  },
  {
   "cell_type": "code",
   "execution_count": 4,
   "metadata": {},
   "outputs": [],
   "source": [
    "import numpy as np\n",
    "import pandas as pd\n",
    "import json\n",
    "import pickle\n",
    "np.random.seed(1234)\n",
    "\n",
    "from noise_generator import stochastic_noise_generator\n",
    "from sklearn.model_selection import train_test_split\n",
    "\n",
    "from keras.utils.vis_utils import plot_model\n",
    "\n",
    "from keras.utils import np_utils\n",
    "from keras.models import load_model\n",
    "from sklearn.metrics import confusion_matrix, classification_report\n",
    "from sklearn.metrics import precision_recall_fscore_support\n",
    "from sklearn.model_selection import train_test_split\n",
    "\n",
    "from keras.layers import Conv1D, GlobalMaxPooling1D, MaxPooling1D, SpatialDropout1D, GlobalAveragePooling1D\n",
    "from keras.layers import Input, Dense, concatenate, Activation, LSTM, Bidirectional, Flatten, Dropout\n",
    "from keras.models import Model\n",
    "from keras.models import Sequential\n",
    "from keras.layers.merge import Concatenate\n",
    "from tensorflow.keras.callbacks import ModelCheckpoint, EarlyStopping\n",
    "import matplotlib.pyplot as plt\n",
    "\n",
    "import imblearn\n",
    "from imblearn import under_sampling, over_sampling\n",
    "from imblearn.under_sampling import RandomUnderSampler\n",
    "from collections import Counter\n",
    "\n",
    "import scikitplot as skplt"
   ]
  },
  {
   "cell_type": "code",
   "execution_count": 5,
   "metadata": {},
   "outputs": [],
   "source": [
    "# V pripade ak boli chyby s importami, tak je potrebne to spustit (robi sa so zdielanymi prostrediami)\n",
    "\n",
    "# %pip install keras\n",
    "# %pip install elisa\n",
    "# %pip install imblearn\n",
    "# %pip install --upgrade tensorflow\n",
    "# %pip install --upgrade tensorflow-gpu\n",
    "# %pip install scikit-plot"
   ]
  },
  {
   "cell_type": "markdown",
   "metadata": {},
   "source": [
    "## Data load\n",
    "\n",
    "- load synthetic light curve - ELISa\n",
    "- Loads previously prepared data,"
   ]
  },
  {
   "cell_type": "code",
   "execution_count": 6,
   "metadata": {},
   "outputs": [
    {
     "data": {
      "text/html": [
       "<div>\n",
       "<style scoped>\n",
       "    .dataframe tbody tr th:only-of-type {\n",
       "        vertical-align: middle;\n",
       "    }\n",
       "\n",
       "    .dataframe tbody tr th {\n",
       "        vertical-align: top;\n",
       "    }\n",
       "\n",
       "    .dataframe thead th {\n",
       "        text-align: right;\n",
       "    }\n",
       "</style>\n",
       "<table border=\"1\" class=\"dataframe\">\n",
       "  <thead>\n",
       "    <tr style=\"text-align: right;\">\n",
       "      <th></th>\n",
       "      <th>id</th>\n",
       "      <th>Bessell_U</th>\n",
       "      <th>Bessell_B</th>\n",
       "      <th>Bessell_V</th>\n",
       "      <th>Bessell_R</th>\n",
       "      <th>Bessell_I</th>\n",
       "      <th>SLOAN_u</th>\n",
       "      <th>SLOAN_g</th>\n",
       "      <th>SLOAN_r</th>\n",
       "      <th>SLOAN_i</th>\n",
       "      <th>SLOAN_z</th>\n",
       "      <th>Kepler</th>\n",
       "      <th>GaiaDR2</th>\n",
       "      <th>TESS</th>\n",
       "      <th>overcontact</th>\n",
       "    </tr>\n",
       "  </thead>\n",
       "  <tbody>\n",
       "    <tr>\n",
       "      <th>0</th>\n",
       "      <td>559536</td>\n",
       "      <td>[0.32465246441106443, 0.3246589129631137, 0.32...</td>\n",
       "      <td>[0.5503815931442964, 0.5503919612677619, 0.550...</td>\n",
       "      <td>[0.6900997127660075, 0.6901302935820504, 0.690...</td>\n",
       "      <td>[0.7647616990403608, 0.7648063801288322, 0.764...</td>\n",
       "      <td>[0.8603604192678186, 0.8604279280534529, 0.860...</td>\n",
       "      <td>[0.30286961308109034, 0.3028745179977566, 0.30...</td>\n",
       "      <td>[0.5999130394235752, 0.5999296764306125, 0.599...</td>\n",
       "      <td>[0.7493293297417334, 0.7493692042472726, 0.749...</td>\n",
       "      <td>[0.8314316633361836, 0.8314930095157297, 0.831...</td>\n",
       "      <td>[0.8777931754716448, 0.8778707793072491, 0.877...</td>\n",
       "      <td>[0.7559574388492395, 0.7560007363664994, 0.755...</td>\n",
       "      <td>[0.7547521338883503, 0.7547991826114474, 0.754...</td>\n",
       "      <td>[0.8296799430022809, 0.8297367402858116, 0.829...</td>\n",
       "      <td>0</td>\n",
       "    </tr>\n",
       "  </tbody>\n",
       "</table>\n",
       "</div>"
      ],
      "text/plain": [
       "       id                                          Bessell_U  \\\n",
       "0  559536  [0.32465246441106443, 0.3246589129631137, 0.32...   \n",
       "\n",
       "                                           Bessell_B  \\\n",
       "0  [0.5503815931442964, 0.5503919612677619, 0.550...   \n",
       "\n",
       "                                           Bessell_V  \\\n",
       "0  [0.6900997127660075, 0.6901302935820504, 0.690...   \n",
       "\n",
       "                                           Bessell_R  \\\n",
       "0  [0.7647616990403608, 0.7648063801288322, 0.764...   \n",
       "\n",
       "                                           Bessell_I  \\\n",
       "0  [0.8603604192678186, 0.8604279280534529, 0.860...   \n",
       "\n",
       "                                             SLOAN_u  \\\n",
       "0  [0.30286961308109034, 0.3028745179977566, 0.30...   \n",
       "\n",
       "                                             SLOAN_g  \\\n",
       "0  [0.5999130394235752, 0.5999296764306125, 0.599...   \n",
       "\n",
       "                                             SLOAN_r  \\\n",
       "0  [0.7493293297417334, 0.7493692042472726, 0.749...   \n",
       "\n",
       "                                             SLOAN_i  \\\n",
       "0  [0.8314316633361836, 0.8314930095157297, 0.831...   \n",
       "\n",
       "                                             SLOAN_z  \\\n",
       "0  [0.8777931754716448, 0.8778707793072491, 0.877...   \n",
       "\n",
       "                                              Kepler  \\\n",
       "0  [0.7559574388492395, 0.7560007363664994, 0.755...   \n",
       "\n",
       "                                             GaiaDR2  \\\n",
       "0  [0.7547521338883503, 0.7547991826114474, 0.754...   \n",
       "\n",
       "                                                TESS  overcontact  \n",
       "0  [0.8296799430022809, 0.8297367402858116, 0.829...            0  "
      ]
     },
     "execution_count": 6,
     "metadata": {},
     "output_type": "execute_result"
    }
   ],
   "source": [
    "data_overcontact_0 = pd.read_pickle(\"overcontact_0_all_filters_10k.pkl\")\n",
    "data_overcontact_0.head(1)"
   ]
  },
  {
   "cell_type": "code",
   "execution_count": 7,
   "metadata": {},
   "outputs": [
    {
     "data": {
      "text/html": [
       "<div>\n",
       "<style scoped>\n",
       "    .dataframe tbody tr th:only-of-type {\n",
       "        vertical-align: middle;\n",
       "    }\n",
       "\n",
       "    .dataframe tbody tr th {\n",
       "        vertical-align: top;\n",
       "    }\n",
       "\n",
       "    .dataframe thead th {\n",
       "        text-align: right;\n",
       "    }\n",
       "</style>\n",
       "<table border=\"1\" class=\"dataframe\">\n",
       "  <thead>\n",
       "    <tr style=\"text-align: right;\">\n",
       "      <th></th>\n",
       "      <th>id</th>\n",
       "      <th>Bessell_U</th>\n",
       "      <th>Bessell_B</th>\n",
       "      <th>Bessell_V</th>\n",
       "      <th>Bessell_R</th>\n",
       "      <th>Bessell_I</th>\n",
       "      <th>SLOAN_u</th>\n",
       "      <th>SLOAN_g</th>\n",
       "      <th>SLOAN_r</th>\n",
       "      <th>SLOAN_i</th>\n",
       "      <th>SLOAN_z</th>\n",
       "      <th>Kepler</th>\n",
       "      <th>GaiaDR2</th>\n",
       "      <th>TESS</th>\n",
       "      <th>overcontact</th>\n",
       "    </tr>\n",
       "  </thead>\n",
       "  <tbody>\n",
       "    <tr>\n",
       "      <th>0</th>\n",
       "      <td>48223885</td>\n",
       "      <td>[0.6269218098871615, 0.6271686752370285, 0.627...</td>\n",
       "      <td>[0.6184606847231429, 0.6187123279969207, 0.619...</td>\n",
       "      <td>[0.6358908630115282, 0.6361371853634973, 0.636...</td>\n",
       "      <td>[0.6470509770087599, 0.647293871086781, 0.6480...</td>\n",
       "      <td>[0.6587998772739947, 0.6590392739347845, 0.659...</td>\n",
       "      <td>[0.6297720862840377, 0.6300165433817815, 0.630...</td>\n",
       "      <td>[0.6240521181344351, 0.6243020283716239, 0.625...</td>\n",
       "      <td>[0.6451082929775852, 0.6453518451233177, 0.646...</td>\n",
       "      <td>[0.6563509085948344, 0.6565906947641926, 0.657...</td>\n",
       "      <td>[0.661553727145966, 0.661792609346159, 0.66251...</td>\n",
       "      <td>[0.639836490909848, 0.6400816575384063, 0.6408...</td>\n",
       "      <td>[0.638432347800212, 0.6386778372239413, 0.6394...</td>\n",
       "      <td>[0.6514995476993208, 0.6517414503861582, 0.652...</td>\n",
       "      <td>1</td>\n",
       "    </tr>\n",
       "  </tbody>\n",
       "</table>\n",
       "</div>"
      ],
      "text/plain": [
       "         id                                          Bessell_U  \\\n",
       "0  48223885  [0.6269218098871615, 0.6271686752370285, 0.627...   \n",
       "\n",
       "                                           Bessell_B  \\\n",
       "0  [0.6184606847231429, 0.6187123279969207, 0.619...   \n",
       "\n",
       "                                           Bessell_V  \\\n",
       "0  [0.6358908630115282, 0.6361371853634973, 0.636...   \n",
       "\n",
       "                                           Bessell_R  \\\n",
       "0  [0.6470509770087599, 0.647293871086781, 0.6480...   \n",
       "\n",
       "                                           Bessell_I  \\\n",
       "0  [0.6587998772739947, 0.6590392739347845, 0.659...   \n",
       "\n",
       "                                             SLOAN_u  \\\n",
       "0  [0.6297720862840377, 0.6300165433817815, 0.630...   \n",
       "\n",
       "                                             SLOAN_g  \\\n",
       "0  [0.6240521181344351, 0.6243020283716239, 0.625...   \n",
       "\n",
       "                                             SLOAN_r  \\\n",
       "0  [0.6451082929775852, 0.6453518451233177, 0.646...   \n",
       "\n",
       "                                             SLOAN_i  \\\n",
       "0  [0.6563509085948344, 0.6565906947641926, 0.657...   \n",
       "\n",
       "                                             SLOAN_z  \\\n",
       "0  [0.661553727145966, 0.661792609346159, 0.66251...   \n",
       "\n",
       "                                              Kepler  \\\n",
       "0  [0.639836490909848, 0.6400816575384063, 0.6408...   \n",
       "\n",
       "                                             GaiaDR2  \\\n",
       "0  [0.638432347800212, 0.6386778372239413, 0.6394...   \n",
       "\n",
       "                                                TESS  overcontact  \n",
       "0  [0.6514995476993208, 0.6517414503861582, 0.652...            1  "
      ]
     },
     "execution_count": 7,
     "metadata": {},
     "output_type": "execute_result"
    }
   ],
   "source": [
    "data_overcontact_1 = pd.read_pickle(\"overcontact_1_all_filters_10k.pkl\")\n",
    "data_overcontact_1.head(1)"
   ]
  },
  {
   "cell_type": "code",
   "execution_count": 8,
   "metadata": {},
   "outputs": [
    {
     "data": {
      "text/html": [
       "<div>\n",
       "<style scoped>\n",
       "    .dataframe tbody tr th:only-of-type {\n",
       "        vertical-align: middle;\n",
       "    }\n",
       "\n",
       "    .dataframe tbody tr th {\n",
       "        vertical-align: top;\n",
       "    }\n",
       "\n",
       "    .dataframe thead th {\n",
       "        text-align: right;\n",
       "    }\n",
       "</style>\n",
       "<table border=\"1\" class=\"dataframe\">\n",
       "  <thead>\n",
       "    <tr style=\"text-align: right;\">\n",
       "      <th></th>\n",
       "      <th>id</th>\n",
       "      <th>Bessell_U</th>\n",
       "      <th>Bessell_B</th>\n",
       "      <th>Bessell_V</th>\n",
       "      <th>Bessell_R</th>\n",
       "      <th>Bessell_I</th>\n",
       "      <th>SLOAN_u</th>\n",
       "      <th>SLOAN_g</th>\n",
       "      <th>SLOAN_r</th>\n",
       "      <th>SLOAN_i</th>\n",
       "      <th>SLOAN_z</th>\n",
       "      <th>Kepler</th>\n",
       "      <th>GaiaDR2</th>\n",
       "      <th>TESS</th>\n",
       "      <th>overcontact</th>\n",
       "    </tr>\n",
       "  </thead>\n",
       "  <tbody>\n",
       "    <tr>\n",
       "      <th>0</th>\n",
       "      <td>559536</td>\n",
       "      <td>[0.32465246441106443, 0.3246589129631137, 0.32...</td>\n",
       "      <td>[0.5503815931442964, 0.5503919612677619, 0.550...</td>\n",
       "      <td>[0.6900997127660075, 0.6901302935820504, 0.690...</td>\n",
       "      <td>[0.7647616990403608, 0.7648063801288322, 0.764...</td>\n",
       "      <td>[0.8603604192678186, 0.8604279280534529, 0.860...</td>\n",
       "      <td>[0.30286961308109034, 0.3028745179977566, 0.30...</td>\n",
       "      <td>[0.5999130394235752, 0.5999296764306125, 0.599...</td>\n",
       "      <td>[0.7493293297417334, 0.7493692042472726, 0.749...</td>\n",
       "      <td>[0.8314316633361836, 0.8314930095157297, 0.831...</td>\n",
       "      <td>[0.8777931754716448, 0.8778707793072491, 0.877...</td>\n",
       "      <td>[0.7559574388492395, 0.7560007363664994, 0.755...</td>\n",
       "      <td>[0.7547521338883503, 0.7547991826114474, 0.754...</td>\n",
       "      <td>[0.8296799430022809, 0.8297367402858116, 0.829...</td>\n",
       "      <td>0</td>\n",
       "    </tr>\n",
       "  </tbody>\n",
       "</table>\n",
       "</div>"
      ],
      "text/plain": [
       "       id                                          Bessell_U  \\\n",
       "0  559536  [0.32465246441106443, 0.3246589129631137, 0.32...   \n",
       "\n",
       "                                           Bessell_B  \\\n",
       "0  [0.5503815931442964, 0.5503919612677619, 0.550...   \n",
       "\n",
       "                                           Bessell_V  \\\n",
       "0  [0.6900997127660075, 0.6901302935820504, 0.690...   \n",
       "\n",
       "                                           Bessell_R  \\\n",
       "0  [0.7647616990403608, 0.7648063801288322, 0.764...   \n",
       "\n",
       "                                           Bessell_I  \\\n",
       "0  [0.8603604192678186, 0.8604279280534529, 0.860...   \n",
       "\n",
       "                                             SLOAN_u  \\\n",
       "0  [0.30286961308109034, 0.3028745179977566, 0.30...   \n",
       "\n",
       "                                             SLOAN_g  \\\n",
       "0  [0.5999130394235752, 0.5999296764306125, 0.599...   \n",
       "\n",
       "                                             SLOAN_r  \\\n",
       "0  [0.7493293297417334, 0.7493692042472726, 0.749...   \n",
       "\n",
       "                                             SLOAN_i  \\\n",
       "0  [0.8314316633361836, 0.8314930095157297, 0.831...   \n",
       "\n",
       "                                             SLOAN_z  \\\n",
       "0  [0.8777931754716448, 0.8778707793072491, 0.877...   \n",
       "\n",
       "                                              Kepler  \\\n",
       "0  [0.7559574388492395, 0.7560007363664994, 0.755...   \n",
       "\n",
       "                                             GaiaDR2  \\\n",
       "0  [0.7547521338883503, 0.7547991826114474, 0.754...   \n",
       "\n",
       "                                                TESS  overcontact  \n",
       "0  [0.8296799430022809, 0.8297367402858116, 0.829...            0  "
      ]
     },
     "execution_count": 8,
     "metadata": {},
     "output_type": "execute_result"
    }
   ],
   "source": [
    "data = pd.concat([data_overcontact_0, data_overcontact_1])\n",
    "data.head(1)"
   ]
  },
  {
   "cell_type": "markdown",
   "metadata": {},
   "source": [
    "### Check data "
   ]
  },
  {
   "cell_type": "code",
   "execution_count": 9,
   "metadata": {},
   "outputs": [
    {
     "data": {
      "text/plain": [
       "id              int64\n",
       "Bessell_U      object\n",
       "Bessell_B      object\n",
       "Bessell_V      object\n",
       "Bessell_R      object\n",
       "Bessell_I      object\n",
       "SLOAN_u        object\n",
       "SLOAN_g        object\n",
       "SLOAN_r        object\n",
       "SLOAN_i        object\n",
       "SLOAN_z        object\n",
       "Kepler         object\n",
       "GaiaDR2        object\n",
       "TESS           object\n",
       "overcontact     int64\n",
       "dtype: object"
      ]
     },
     "execution_count": 9,
     "metadata": {},
     "output_type": "execute_result"
    }
   ],
   "source": [
    "data.dtypes"
   ]
  },
  {
   "cell_type": "code",
   "execution_count": 10,
   "metadata": {},
   "outputs": [
    {
     "data": {
      "text/plain": [
       "1    10000\n",
       "0    10000\n",
       "Name: overcontact, dtype: int64"
      ]
     },
     "execution_count": 10,
     "metadata": {},
     "output_type": "execute_result"
    }
   ],
   "source": [
    "data['overcontact'].value_counts()"
   ]
  },
  {
   "cell_type": "markdown",
   "metadata": {},
   "source": [
    "## Data preparation\n",
    "- train_test_split\n",
    "- bessel_to_array -> comma seperated string transforms to array\n",
    "- add noice to train and test sets\n",
    "> musi to byt v tomto poradi lebo ked sa aplikuje noice tak uz nejde urobit train_test_split"
   ]
  },
  {
   "cell_type": "code",
   "execution_count": 11,
   "metadata": {},
   "outputs": [
    {
     "name": "stdout",
     "output_type": "stream",
     "text": [
      "(16000, 15)\n",
      "########\n",
      "5894    0\n",
      "3728    0\n",
      "8958    0\n",
      "7671    0\n",
      "5999    0\n",
      "       ..\n",
      "1284    1\n",
      "1964    1\n",
      "5390    0\n",
      "860     0\n",
      "5795    1\n",
      "Name: overcontact, Length: 16000, dtype: int64\n",
      "########\n",
      "(4000, 15)\n",
      "########\n",
      "650     1\n",
      "2041    0\n",
      "8668    0\n",
      "1114    0\n",
      "3902    1\n",
      "       ..\n",
      "4073    0\n",
      "7442    0\n",
      "9999    0\n",
      "1870    0\n",
      "5196    1\n",
      "Name: overcontact, Length: 4000, dtype: int64\n",
      "########\n"
     ]
    }
   ],
   "source": [
    "X_train, X_test, y_train, y_test = train_test_split(data, data['overcontact'], test_size=0.2, random_state=42)\n",
    "\n",
    "# Check shapes after split\n",
    "print(X_train.shape)\n",
    "print(\"########\")\n",
    "print(y_train)\n",
    "print(\"########\")\n",
    "print(X_test.shape)\n",
    "print(\"########\")\n",
    "print(y_test)\n",
    "print(\"########\")"
   ]
  },
  {
   "cell_type": "code",
   "execution_count": 12,
   "metadata": {},
   "outputs": [],
   "source": [
    "def bessel_to_array(column_name, df):\n",
    "    \"\"\"Model expects array input. \n",
    "    This function transforms all curves in 1 column (400 comma seperated numbers) to array\"\"\"\n",
    "    newData_bessell = []\n",
    "    for row in df[column_name]:\n",
    "        newRow = []\n",
    "        for valueIndex in range(len(row)):\n",
    "            newRow.append([row[valueIndex]])\n",
    "        newData_bessell.append(newRow) \n",
    "    newData_bessell = np.array(newData_bessell)\n",
    "    return newData_bessell"
   ]
  },
  {
   "cell_type": "code",
   "execution_count": 13,
   "metadata": {},
   "outputs": [
    {
     "name": "stdout",
     "output_type": "stream",
     "text": [
      "Bessell_U prossessed\n",
      "Bessell_B prossessed\n",
      "Bessell_V prossessed\n",
      "Bessell_R prossessed\n",
      "Bessell_I prossessed\n",
      "SLOAN_u prossessed\n",
      "SLOAN_g prossessed\n",
      "SLOAN_r prossessed\n",
      "SLOAN_i prossessed\n",
      "SLOAN_z prossessed\n",
      "Kepler prossessed\n",
      "GaiaDR2 prossessed\n",
      "TESS prossessed\n"
     ]
    }
   ],
   "source": [
    "X_train_with_arrays_noise = []\n",
    "for column in [\"Bessell_U\", \"Bessell_B\", \"Bessell_V\", \"Bessell_R\", \"Bessell_I\", \"SLOAN_u\", \"SLOAN_g\" , \"SLOAN_r\" , \"SLOAN_i\" , \"SLOAN_z\" , \"Kepler\" , \"GaiaDR2\" , \"TESS\"]:\n",
    "    X_train_with_arrays_noise.append(stochastic_noise_generator(bessel_to_array(column, X_train)))\n",
    "    print(column + \" \" + \"prossessed\")"
   ]
  },
  {
   "cell_type": "code",
   "execution_count": 14,
   "metadata": {},
   "outputs": [
    {
     "name": "stdout",
     "output_type": "stream",
     "text": [
      "Bessell_U prossessed\n",
      "Bessell_B prossessed\n",
      "Bessell_V prossessed\n",
      "Bessell_R prossessed\n",
      "Bessell_I prossessed\n",
      "SLOAN_u prossessed\n",
      "SLOAN_g prossessed\n",
      "SLOAN_r prossessed\n",
      "SLOAN_i prossessed\n",
      "SLOAN_z prossessed\n",
      "Kepler prossessed\n",
      "GaiaDR2 prossessed\n",
      "TESS prossessed\n"
     ]
    }
   ],
   "source": [
    "X_test_with_arrays_noise = []\n",
    "for column in [\"Bessell_U\", \"Bessell_B\", \"Bessell_V\", \"Bessell_R\", \"Bessell_I\", \"SLOAN_u\", \"SLOAN_g\" , \"SLOAN_r\" , \"SLOAN_i\" , \"SLOAN_z\" , \"Kepler\" , \"GaiaDR2\" , \"TESS\"]:\n",
    "    X_test_with_arrays_noise.append(stochastic_noise_generator(bessel_to_array(column, X_test)))\n",
    "    print(column + \" \" + \"prossessed\")"
   ]
  },
  {
   "cell_type": "code",
   "execution_count": 15,
   "metadata": {},
   "outputs": [],
   "source": [
    "# (5, 2, 16000, 400, 1) -> meaning: \n",
    "# 5 - UBVRI\n",
    "# 2 - normalized light curve with added noise, standard deviation of observations\n",
    "# 16000 - number of curves\n",
    "# 400 - size of 1 curve\n",
    "# 1 - detached or overcontact\n",
    "\n",
    "# print(np.array(X_train_with_arrays_noise).shape)\n",
    "# print(np.array(X_test_with_arrays_noise).shape)"
   ]
  },
  {
   "cell_type": "code",
   "execution_count": 16,
   "metadata": {},
   "outputs": [],
   "source": [
    "# Check if noice was added successfully\n",
    "# plt.plot(X_train_with_arrays_noise[1][0][1500])"
   ]
  },
  {
   "cell_type": "code",
   "execution_count": 17,
   "metadata": {},
   "outputs": [],
   "source": [
    "# Check if U,B,V,R,I version of the same curve with noice is different\n",
    "# print(np.array_equal(X_train_with_arrays_noise[0][0], X_train_with_arrays_noise[1][0]))\n",
    "# print(np.array_equal(X_train_with_arrays_noise[1][0], X_train_with_arrays_noise[2][0]))\n",
    "# print(np.array_equal(X_train_with_arrays_noise[2][0], X_train_with_arrays_noise[3][0]))\n",
    "# print(np.array_equal(X_train_with_arrays_noise[3][0], X_train_with_arrays_noise[4][0]))"
   ]
  },
  {
   "cell_type": "code",
   "execution_count": 18,
   "metadata": {},
   "outputs": [
    {
     "name": "stdout",
     "output_type": "stream",
     "text": [
      "[0 0 0 ... 0 0 1]\n",
      "True\n",
      "True\n"
     ]
    }
   ],
   "source": [
    "# target is overcontact\n",
    "target = np.array(y_train)\n",
    "print(target)\n",
    "\n",
    "# just to be sure that both types are in dataset\n",
    "exists = 0 in target\n",
    "print(exists)\n",
    "exists = 1 in target\n",
    "print(exists)"
   ]
  },
  {
   "cell_type": "markdown",
   "metadata": {},
   "source": [
    "> Control the shape and check if the dataset is imbalanced (ale nacital som si z oboch 10 000 cize viem ze by mal byt vyvazeny)"
   ]
  },
  {
   "cell_type": "code",
   "execution_count": 19,
   "metadata": {},
   "outputs": [
    {
     "name": "stdout",
     "output_type": "stream",
     "text": [
      "(16000,)\n",
      "(16000, 400, 1)\n",
      "(16000, 400, 1)\n",
      "(16000, 400, 1)\n",
      "(16000, 400, 1)\n",
      "(16000, 400, 1)\n",
      "(16000, 400, 1)\n",
      "(16000, 400, 1)\n",
      "(16000, 400, 1)\n",
      "(16000, 400, 1)\n",
      "(16000, 400, 1)\n",
      "(16000, 400, 1)\n",
      "(16000, 400, 1)\n",
      "(16000, 400, 1)\n",
      "Counter({1: 8019, 0: 7981})\n"
     ]
    }
   ],
   "source": [
    "print(target.shape)\n",
    "\n",
    "print(X_train_with_arrays_noise[0][0].shape)\n",
    "print(X_train_with_arrays_noise[1][0].shape)\n",
    "print(X_train_with_arrays_noise[2][0].shape)\n",
    "print(X_train_with_arrays_noise[3][0].shape)\n",
    "print(X_train_with_arrays_noise[4][0].shape)\n",
    "\n",
    "print(X_train_with_arrays_noise[5][0].shape)\n",
    "print(X_train_with_arrays_noise[6][0].shape)\n",
    "print(X_train_with_arrays_noise[7][0].shape)\n",
    "print(X_train_with_arrays_noise[8][0].shape)\n",
    "print(X_train_with_arrays_noise[9][0].shape)\n",
    "\n",
    "print(X_train_with_arrays_noise[10][0].shape)\n",
    "print(X_train_with_arrays_noise[11][0].shape)\n",
    "print(X_train_with_arrays_noise[12][0].shape)\n",
    "\n",
    "\n",
    "print(Counter(target))"
   ]
  },
  {
   "cell_type": "markdown",
   "metadata": {},
   "source": [
    "    - fit and apply the transform"
   ]
  },
  {
   "cell_type": "code",
   "execution_count": 20,
   "metadata": {},
   "outputs": [],
   "source": [
    "def print_shape_counter(column, target):\n",
    "    print(column.shape)\n",
    "    print(target.shape)\n",
    "    print(Counter(target))"
   ]
  },
  {
   "cell_type": "code",
   "execution_count": 21,
   "metadata": {},
   "outputs": [
    {
     "name": "stdout",
     "output_type": "stream",
     "text": [
      "(16000, 400, 1)\n",
      "(16000,)\n",
      "Counter({1: 8019, 0: 7981})\n",
      "\n",
      "(16000, 400, 1)\n",
      "(16000,)\n",
      "Counter({1: 8019, 0: 7981})\n",
      "\n",
      "(16000, 400, 1)\n",
      "(16000,)\n",
      "Counter({1: 8019, 0: 7981})\n",
      "\n",
      "(16000, 400, 1)\n",
      "(16000,)\n",
      "Counter({1: 8019, 0: 7981})\n",
      "\n",
      "(16000, 400, 1)\n",
      "(16000,)\n",
      "Counter({1: 8019, 0: 7981})\n",
      "\n"
     ]
    }
   ],
   "source": [
    "for i in range(5):\n",
    "    print_shape_counter(X_train_with_arrays_noise[i][0], y_train)\n",
    "    print(\"\")"
   ]
  },
  {
   "cell_type": "code",
   "execution_count": 22,
   "metadata": {},
   "outputs": [
    {
     "data": {
      "text/plain": [
       "array([[1., 0.],\n",
       "       [1., 0.],\n",
       "       [1., 0.],\n",
       "       ...,\n",
       "       [1., 0.],\n",
       "       [1., 0.],\n",
       "       [0., 1.]], dtype=float32)"
      ]
     },
     "execution_count": 22,
     "metadata": {},
     "output_type": "execute_result"
    }
   ],
   "source": [
    "# transform to categorical\n",
    "y_train = np_utils.to_categorical(y_train, 2)\n",
    "y_train"
   ]
  },
  {
   "cell_type": "code",
   "execution_count": 23,
   "metadata": {},
   "outputs": [
    {
     "name": "stdout",
     "output_type": "stream",
     "text": [
      "(13, 2, 16000, 400, 1)\n",
      "(16000, 2)\n",
      "[[1. 0.]\n",
      " [1. 0.]\n",
      " [1. 0.]\n",
      " ...\n",
      " [1. 0.]\n",
      " [1. 0.]\n",
      " [0. 1.]]\n"
     ]
    }
   ],
   "source": [
    "#Check shape \n",
    "print(np.array(X_train_with_arrays_noise).shape)\n",
    "print(y_train.shape)\n",
    "print((y_train))"
   ]
  },
  {
   "cell_type": "markdown",
   "metadata": {},
   "source": [
    "# Multiple models\n",
    "> always choose only one"
   ]
  },
  {
   "cell_type": "markdown",
   "metadata": {},
   "source": [
    "## experiment -> biLSTM + CNN"
   ]
  },
  {
   "cell_type": "code",
   "execution_count": 24,
   "metadata": {},
   "outputs": [
    {
     "name": "stdout",
     "output_type": "stream",
     "text": [
      "Model: \"model\"\n",
      "__________________________________________________________________________________________________\n",
      " Layer (type)                   Output Shape         Param #     Connected to                     \n",
      "==================================================================================================\n",
      " input_1 (InputLayer)           [(None, 400, 1)]     0           []                               \n",
      "                                                                                                  \n",
      " conv1d (Conv1D)                (None, 398, 32)      128         ['input_1[0][0]']                \n",
      "                                                                                                  \n",
      " max_pooling1d (MaxPooling1D)   (None, 199, 32)      0           ['conv1d[0][0]']                 \n",
      "                                                                                                  \n",
      " conv1d_1 (Conv1D)              (None, 197, 32)      3104        ['max_pooling1d[0][0]']          \n",
      "                                                                                                  \n",
      " bidirectional (Bidirectional)  (None, 400, 128)     33792       ['input_1[0][0]']                \n",
      "                                                                                                  \n",
      " max_pooling1d_1 (MaxPooling1D)  (None, 98, 32)      0           ['conv1d_1[0][0]']               \n",
      "                                                                                                  \n",
      " flatten (Flatten)              (None, 51200)        0           ['bidirectional[0][0]']          \n",
      "                                                                                                  \n",
      " flatten_1 (Flatten)            (None, 3136)         0           ['max_pooling1d_1[0][0]']        \n",
      "                                                                                                  \n",
      " concatenate (Concatenate)      (None, 54336)        0           ['flatten[0][0]',                \n",
      "                                                                  'flatten_1[0][0]']              \n",
      "                                                                                                  \n",
      " dropout (Dropout)              (None, 54336)        0           ['concatenate[0][0]']            \n",
      "                                                                                                  \n",
      " dense (Dense)                  (None, 32)           1738784     ['dropout[0][0]']                \n",
      "                                                                                                  \n",
      " dense_1 (Dense)                (None, 2)            66          ['dense[0][0]']                  \n",
      "                                                                                                  \n",
      "==================================================================================================\n",
      "Total params: 1,775,874\n",
      "Trainable params: 1,775,874\n",
      "Non-trainable params: 0\n",
      "__________________________________________________________________________________________________\n",
      "None\n"
     ]
    }
   ],
   "source": [
    "inputs = Input(shape=(400,1))\n",
    "\n",
    "a = Bidirectional(LSTM(64, return_sequences=True,dropout=0.1,recurrent_dropout=0.1))(inputs)\n",
    "a = Flatten()(a)\n",
    "\n",
    "b = Conv1D(32, kernel_size = 3, padding = \"valid\", input_shape=(400,1))(inputs)\n",
    "b = MaxPooling1D(2)(b)\n",
    "b = Conv1D(32, kernel_size = 3, padding = \"valid\")(b)\n",
    "b = MaxPooling1D(2)(b)\n",
    "b = Flatten()(b)\n",
    "\n",
    "x = concatenate([a,b])\n",
    "x = Dropout(0.2)(x)\n",
    "x = Dense(32, activation='relu')(x)\n",
    "\n",
    "output = Dense(2, activation='softmax')(x)\n",
    "classifier = Model(inputs=inputs, outputs=output)\n",
    "classifier.compile(loss='categorical_crossentropy', optimizer='adam', metrics=['acc'])\n",
    "print(classifier.summary())"
   ]
  },
  {
   "cell_type": "markdown",
   "metadata": {},
   "source": [
    "## experiment 3 -> same model as experiment 2"
   ]
  },
  {
   "cell_type": "code",
   "execution_count": 25,
   "metadata": {},
   "outputs": [],
   "source": [
    "saved_model = \"model_all_filters_detached_overcontact_.hdf5\"\n",
    "checkpoint = ModelCheckpoint(saved_model, monitor='val_acc', verbose=1, save_best_only=True, mode='max')\n",
    "early = EarlyStopping(monitor=\"val_acc\", mode=\"max\", patience=10)\n",
    "callbacks_list = [checkpoint, early]"
   ]
  },
  {
   "cell_type": "code",
   "execution_count": 26,
   "metadata": {},
   "outputs": [],
   "source": [
    "x_train = np.concatenate((X_train_with_arrays_noise[0][0],\n",
    "                          X_train_with_arrays_noise[1][0], \n",
    "                          X_train_with_arrays_noise[2][0], \n",
    "                          X_train_with_arrays_noise[3][0],\n",
    "                          X_train_with_arrays_noise[4][0], \n",
    "                          X_train_with_arrays_noise[5][0], \n",
    "                          X_train_with_arrays_noise[6][0],\n",
    "                          X_train_with_arrays_noise[7][0], \n",
    "                          X_train_with_arrays_noise[8][0], \n",
    "                          X_train_with_arrays_noise[9][0],\n",
    "                          X_train_with_arrays_noise[10][0], \n",
    "                          X_train_with_arrays_noise[11][0], \n",
    "                          X_train_with_arrays_noise[12][0])) "
   ]
  },
  {
   "cell_type": "code",
   "execution_count": 27,
   "metadata": {},
   "outputs": [],
   "source": [
    "y_train_mixed = np.concatenate((y_train,\n",
    "                                y_train, \n",
    "                                y_train, \n",
    "                                y_train,\n",
    "                                y_train, \n",
    "                                y_train, \n",
    "                                y_train,\n",
    "                                y_train, \n",
    "                                y_train, \n",
    "                                y_train,\n",
    "                                y_train, \n",
    "                                y_train, \n",
    "                                y_train)) "
   ]
  },
  {
   "cell_type": "code",
   "execution_count": 28,
   "metadata": {},
   "outputs": [
    {
     "name": "stdout",
     "output_type": "stream",
     "text": [
      "Epoch 1/10\n",
      "631/631 [==============================] - ETA: 0s - loss: 0.1262 - acc: 0.9520\n",
      "Epoch 1: val_acc improved from -inf to 0.97966, saving model to model_all_filters_detached_overcontact_.hdf5\n",
      "631/631 [==============================] - 396s 621ms/step - loss: 0.1262 - acc: 0.9520 - val_loss: 0.0543 - val_acc: 0.9797\n",
      "Epoch 2/10\n",
      "631/631 [==============================] - ETA: 0s - loss: 0.0526 - acc: 0.9805\n",
      "Epoch 2: val_acc improved from 0.97966 to 0.98611, saving model to model_all_filters_detached_overcontact_.hdf5\n",
      "631/631 [==============================] - 389s 616ms/step - loss: 0.0526 - acc: 0.9805 - val_loss: 0.0351 - val_acc: 0.9861\n",
      "Epoch 3/10\n",
      "631/631 [==============================] - ETA: 0s - loss: 0.0398 - acc: 0.9852\n",
      "Epoch 3: val_acc did not improve from 0.98611\n",
      "631/631 [==============================] - 389s 616ms/step - loss: 0.0398 - acc: 0.9852 - val_loss: 0.0360 - val_acc: 0.9861\n",
      "Epoch 4/10\n",
      "631/631 [==============================] - ETA: 0s - loss: 0.0367 - acc: 0.9865\n",
      "Epoch 4: val_acc improved from 0.98611 to 0.98817, saving model to model_all_filters_detached_overcontact_.hdf5\n",
      "631/631 [==============================] - 389s 617ms/step - loss: 0.0367 - acc: 0.9865 - val_loss: 0.0304 - val_acc: 0.9882\n",
      "Epoch 5/10\n",
      "631/631 [==============================] - ETA: 0s - loss: 0.0351 - acc: 0.9868\n",
      "Epoch 5: val_acc improved from 0.98817 to 0.98822, saving model to model_all_filters_detached_overcontact_.hdf5\n",
      "631/631 [==============================] - 388s 615ms/step - loss: 0.0351 - acc: 0.9868 - val_loss: 0.0293 - val_acc: 0.9882\n",
      "Epoch 6/10\n",
      "631/631 [==============================] - ETA: 0s - loss: 0.0335 - acc: 0.9874\n",
      "Epoch 6: val_acc improved from 0.98822 to 0.98889, saving model to model_all_filters_detached_overcontact_.hdf5\n",
      "631/631 [==============================] - 388s 615ms/step - loss: 0.0335 - acc: 0.9874 - val_loss: 0.0278 - val_acc: 0.9889\n",
      "Epoch 7/10\n",
      "631/631 [==============================] - ETA: 0s - loss: 0.0458 - acc: 0.9857\n",
      "Epoch 7: val_acc improved from 0.98889 to 0.98942, saving model to model_all_filters_detached_overcontact_.hdf5\n",
      "631/631 [==============================] - 388s 615ms/step - loss: 0.0458 - acc: 0.9857 - val_loss: 0.0269 - val_acc: 0.9894\n",
      "Epoch 8/10\n",
      "631/631 [==============================] - ETA: 0s - loss: 0.0338 - acc: 0.9875\n",
      "Epoch 8: val_acc improved from 0.98942 to 0.99000, saving model to model_all_filters_detached_overcontact_.hdf5\n",
      "631/631 [==============================] - 388s 615ms/step - loss: 0.0338 - acc: 0.9875 - val_loss: 0.0246 - val_acc: 0.9900\n",
      "Epoch 9/10\n",
      "631/631 [==============================] - ETA: 0s - loss: 0.0306 - acc: 0.9888\n",
      "Epoch 9: val_acc improved from 0.99000 to 0.99108, saving model to model_all_filters_detached_overcontact_.hdf5\n",
      "631/631 [==============================] - 387s 614ms/step - loss: 0.0306 - acc: 0.9888 - val_loss: 0.0226 - val_acc: 0.9911\n",
      "Epoch 10/10\n",
      "631/631 [==============================] - ETA: 0s - loss: 0.0298 - acc: 0.9892\n",
      "Epoch 10: val_acc did not improve from 0.99108\n",
      "631/631 [==============================] - 387s 613ms/step - loss: 0.0298 - acc: 0.9892 - val_loss: 0.0237 - val_acc: 0.9902\n"
     ]
    }
   ],
   "source": [
    "history = classifier.fit(x_train, y_train_mixed, validation_split=0.2, epochs=10, batch_size=264, verbose=1, callbacks = callbacks_list)"
   ]
  },
  {
   "cell_type": "code",
   "execution_count": 30,
   "metadata": {},
   "outputs": [],
   "source": [
    "# Define function for plot loss and accuracy during training\n",
    "def trainingLoss(history):\n",
    "    plt.style.use('ggplot')\n",
    "    plt.plot(history.history['acc'])\n",
    "    plt.plot(history.history['val_acc'])\n",
    "    plt.title('')\n",
    "    plt.ylabel('Accuracy')\n",
    "    plt.xlabel('Epochs')\n",
    "    plt.legend(['train', 'validation'], loc='upper left')\n",
    "    plt.savefig('tarin1.png', bbox_inches='tight')\n",
    "    plt.show()\n",
    "    plt.style.use('ggplot')\n",
    "    plt.plot(history.history['loss'])\n",
    "    plt.plot(history.history['val_loss'])\n",
    "    plt.title('')\n",
    "    plt.ylabel('Loss')\n",
    "    plt.xlabel('Epochs')\n",
    "    plt.legend(['train', 'validation'], loc='upper left')\n",
    "    plt.savefig('tarin2.png', )\n",
    "    plt.show()"
   ]
  },
  {
   "cell_type": "markdown",
   "metadata": {},
   "source": [
    "Plot training graphs"
   ]
  },
  {
   "cell_type": "code",
   "execution_count": 31,
   "metadata": {},
   "outputs": [
    {
     "data": {
      "image/png": "[encoded data removed]",
      "text/plain": [
       "<Figure size 432x288 with 1 Axes>"
      ]
     },
     "metadata": {},
     "output_type": "display_data"
    },
    {
     "data": {
      "image/png": "[encoded data removed]",
      "text/plain": [
       "<Figure size 432x288 with 1 Axes>"
      ]
     },
     "metadata": {},
     "output_type": "display_data"
    }
   ],
   "source": [
    "trainingLoss(history)"
   ]
  },
  {
   "cell_type": "markdown",
   "metadata": {},
   "source": [
    "# Model experiment 1 evaluation"
   ]
  },
  {
   "cell_type": "code",
   "execution_count": 32,
   "metadata": {},
   "outputs": [],
   "source": [
    "def evaluate_all(model_path, input_data, y_test):\n",
    "    classifier = load_model(model_path)\n",
    "    # y_pred returns probability of detached and overcontact \n",
    "    # for example [1.4059671e-04, 9.9985933e-01], \n",
    "    # means detached with prob. 0.0001405  and overcontact with prob 0.998\n",
    "    y_pred = classifier.predict(input_data)\n",
    "    # print(y_pred)\n",
    "    \n",
    "    # for example [1.4059671e-04, 9.9985933e-01] -> [0, 1], it is marked as detached \n",
    "    y_pred2 = np.where(y_pred > 0.5, 1, 0)\n",
    "    \n",
    "    # test data [0,1,...] is converted to categorical [[0,1],[1,0]]\n",
    "    target_test = np.array(y_test)\n",
    "    target_test = np_utils.to_categorical(target_test, 2)\n",
    "    \n",
    "    # confusion matrix -old \n",
    "    # cm = confusion_matrix(target_test.argmax(axis=1), y_pred2.argmax(axis=1))\n",
    "    # print(\"Confusion matrix: \\n\" + str(cm))\n",
    "    \n",
    "    # confusion matrix - nice print \n",
    "    matrix=skplt.metrics.plot_confusion_matrix(target_test.argmax(axis=1), y_pred2.argmax(axis=1))\n",
    "    matrix.xaxis.set_ticklabels(['detached', 'overcontact'])\n",
    "    matrix.yaxis.set_ticklabels(['detached', 'overcontact'])\n",
    "    matrix\n",
    "    \n",
    "    target_names= ['detached', 'overcontact']\n",
    "    print(\"Classification report: \\n\" + classification_report(target_test.argmax(axis=1), y_pred2.argmax(axis=1),target_names=target_names))\n",
    "\n",
    "    # from categorical [0, 1] -> 1\n",
    "    y_true = target_test.argmax(axis=1)\n",
    "    \n",
    "    skplt.metrics.plot_roc(y_true, y_pred)\n",
    "    plt.savefig('roc_auc.png')\n",
    "    plt.show()\n",
    "    \n",
    "    input_data = np.array(input_data)\n",
    "    \n",
    "    \n",
    "    limit_plot=0\n",
    "    for j in range(len(y_pred2)): \n",
    "        if (y_pred2[j].argmax(axis=0) == 1) and (target_test[j].argmax(axis=0) == 0):\n",
    "            if input_data.ndim == 4:\n",
    "                plt.plot(input_data[0][j],label = str(y_test.iloc[[j]].index[0]) + \", \" +str(y_test.iloc[[j]].values[0]))\n",
    "                fig1 = plt.figure(1)\n",
    "                fig1.text(0.45, 0.9, \"detached 0\", ha=\"center\", va=\"bottom\", color=\"green\")\n",
    "                fig1.text(0.53, 0.9, \"/\", ha=\"center\", va=\"bottom\",  color=\"black\")\n",
    "                fig1.text(0.62, 0.9, \"overcontact 1\", ha=\"center\", va=\"bottom\",  color=\"red\")\n",
    "                limit_plot=limit_plot+1\n",
    "            else:\n",
    "                plt.plot(input_data[j],label = str(y_test.iloc[[j]].index[0]) + \", \" +str(y_test.iloc[[j]].values[0]))\n",
    "                fig1 = plt.figure(1)\n",
    "                fig1.text(0.45, 0.9, \"detached 0\", ha=\"center\", va=\"bottom\" ,color=\"green\")\n",
    "                fig1.text(0.53, 0.9, \"/\", ha=\"center\", va=\"bottom\",  color=\"black\")\n",
    "                fig1.text(0.62,0.9, \"overcontact 1\", ha=\"center\", va=\"bottom\",  color=\"red\")\n",
    "                limit_plot=limit_plot+1\n",
    "            if limit_plot == 2:\n",
    "                break \n",
    "\n",
    "    \n",
    "    plt.legend(loc='upper right')       \n",
    "    plt.savefig('image.png')\n",
    "    plt.show()     \n",
    "\n",
    "\n",
    "    limit_plot2=0\n",
    "    for j in range(len(y_pred2)): \n",
    "        if (y_pred2[j].argmax(axis=0) == 0) and (target_test[j].argmax(axis=0) == 1):\n",
    "            if input_data.ndim == 4:\n",
    "                plt.plot(input_data[0][j],label = str(y_test.iloc[[j]].index[0]) + \", \" +str(y_test.iloc[[j]].values[0]))\n",
    "                fig1 = plt.figure(1)\n",
    "                fig1.text(0.45, 0.9, \"detached 0\", ha=\"center\", va=\"bottom\", color=\"red\")\n",
    "                fig1.text(0.53, 0.9, \"/\", ha=\"center\", va=\"bottom\",  color=\"black\")\n",
    "                fig1.text(0.62, 0.9, \"overcontact 1\", ha=\"center\", va=\"bottom\",  color=\"green\")\n",
    "                limit_plot2=limit_plot2+1\n",
    "                \n",
    "            else:\n",
    "                plt.plot(input_data[j],label = str(y_test.iloc[[j]].index[0]) + \", \" +str(y_test.iloc[[j]].values[0]))\n",
    "                fig1 = plt.figure(1)\n",
    "                fig1.text(0.45, 0.9, \"detached 0\", ha=\"center\", va=\"bottom\", color=\"red\")\n",
    "                fig1.text(0.53, 0.9, \"/\", ha=\"center\", va=\"bottom\",  color=\"black\")\n",
    "                fig1.text(0.62, 0.9, \"overcontact 1\", ha=\"center\", va=\"bottom\",  color=\"green\")\n",
    "                limit_plot2=limit_plot2+1\n",
    "            if limit_plot2 == 2:\n",
    "                break \n",
    "    \n",
    "    plt.legend(loc='upper right')       \n",
    "    plt.savefig('image2.png')\n",
    "    plt.show()"
   ]
  },
  {
   "cell_type": "code",
   "execution_count": null,
   "metadata": {},
   "outputs": [],
   "source": []
  },
  {
   "cell_type": "code",
   "execution_count": null,
   "metadata": {},
   "outputs": [],
   "source": []
  },
  {
   "cell_type": "markdown",
   "metadata": {},
   "source": [
    "# Model 3 evaluation"
   ]
  },
  {
   "cell_type": "code",
   "execution_count": 34,
   "metadata": {},
   "outputs": [
    {
     "name": "stdout",
     "output_type": "stream",
     "text": [
      "(52000,)\n",
      "(52000, 400, 1)\n",
      "Classification report: \n",
      "              precision    recall  f1-score   support\n",
      "\n",
      "    detached       0.99      0.99      0.99     26247\n",
      " overcontact       0.99      0.99      0.99     25753\n",
      "\n",
      "    accuracy                           0.99     52000\n",
      "   macro avg       0.99      0.99      0.99     52000\n",
      "weighted avg       0.99      0.99      0.99     52000\n",
      "\n"
     ]
    },
    {
     "data": {
      "image/png": "[encoded data removed]",
      "text/plain": [
       "<Figure size 432x288 with 2 Axes>"
      ]
     },
     "metadata": {},
     "output_type": "display_data"
    },
    {
     "data": {
      "image/png": "[encoded data removed]",
      "text/plain": [
       "<Figure size 432x288 with 1 Axes>"
      ]
     },
     "metadata": {},
     "output_type": "display_data"
    },
    {
     "data": {
      "image/png": "[encoded data removed]",
      "text/plain": [
       "<Figure size 432x288 with 1 Axes>"
      ]
     },
     "metadata": {},
     "output_type": "display_data"
    },
    {
     "data": {
      "image/png": "[encoded data removed]",
      "text/plain": [
       "<Figure size 432x288 with 1 Axes>"
      ]
     },
     "metadata": {},
     "output_type": "display_data"
    }
   ],
   "source": [
    "processed_test_data= np.concatenate((\n",
    " X_test_with_arrays_noise[0][0],\n",
    " X_test_with_arrays_noise[1][0],\n",
    " X_test_with_arrays_noise[2][0],\n",
    " X_test_with_arrays_noise[3][0],\n",
    " X_test_with_arrays_noise[4][0],\n",
    " X_test_with_arrays_noise[5][0],\n",
    " X_test_with_arrays_noise[6][0],\n",
    " X_test_with_arrays_noise[7][0],\n",
    " X_test_with_arrays_noise[8][0],\n",
    " X_test_with_arrays_noise[9][0],\n",
    " X_test_with_arrays_noise[10][0],\n",
    " X_test_with_arrays_noise[11][0],\n",
    " X_test_with_arrays_noise[12][0]))\n",
    "\n",
    "y_test_mixed = pd.concat([y_test,\n",
    "                            y_test, \n",
    "                            y_test, \n",
    "                            y_test,\n",
    "                            y_test, \n",
    "                            y_test, \n",
    "                            y_test,\n",
    "                            y_test, \n",
    "                            y_test, \n",
    "                            y_test,\n",
    "                            y_test,\n",
    "                            y_test,\n",
    "                            y_test]) \n",
    "print(y_test_mixed.shape)\n",
    "print(processed_test_data.shape)\n",
    "\n",
    "evaluate_all('model_all_filters_detached_overcontact_.hdf5', processed_test_data, y_test_mixed)"
   ]
  },
  {
   "cell_type": "code",
   "execution_count": null,
   "metadata": {},
   "outputs": [],
   "source": []
  }
 ],
 "metadata": {
  "kernelspec": {
   "display_name": "Python 3",
   "language": "python",
   "name": "python3"
  },
  "language_info": {
   "codemirror_mode": {
    "name": "ipython",
    "version": 3
   },
   "file_extension": ".py",
   "mimetype": "text/x-python",
   "name": "python",
   "nbconvert_exporter": "python",
   "pygments_lexer": "ipython3",
   "version": "3.8.6"
  }
 },
 "nbformat": 4,
 "nbformat_minor": 4
}
